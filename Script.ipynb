{
 "cells": [
  {
   "cell_type": "code",
   "execution_count": 2,
   "metadata": {},
   "outputs": [],
   "source": [
    "import numpy as np\n",
    "import pandas as pd\n",
    "import matplotlib.pyplot as plt"
   ]
  },
  {
   "cell_type": "code",
   "execution_count": 4,
   "metadata": {},
   "outputs": [
    {
     "name": "stdout",
     "output_type": "stream",
     "text": [
      "Found existing installation: requests 2.31.0\n",
      "Uninstalling requests-2.31.0:\n",
      "  Successfully uninstalled requests-2.31.0\n",
      "Found existing installation: charset-normalizer 2.0.4\n",
      "Uninstalling charset-normalizer-2.0.4:\n",
      "  Successfully uninstalled charset-normalizer-2.0.4\n",
      "Collecting requests\n",
      "  Using cached requests-2.32.3-py3-none-any.whl.metadata (4.6 kB)\n",
      "Requirement already satisfied: charset_normalizer in c:\\users\\gurpreet singh\\anaconda3\\envs\\azackme\\lib\\site-packages (3.3.2)\n",
      "Requirement already satisfied: idna<4,>=2.5 in c:\\users\\gurpreet singh\\anaconda3\\envs\\azackme\\lib\\site-packages (from requests) (3.4)\n",
      "Requirement already satisfied: urllib3<3,>=1.21.1 in c:\\users\\gurpreet singh\\anaconda3\\envs\\azackme\\lib\\site-packages (from requests) (2.1.0)\n",
      "Requirement already satisfied: certifi>=2017.4.17 in c:\\users\\gurpreet singh\\anaconda3\\envs\\azackme\\lib\\site-packages (from requests) (2023.11.17)\n",
      "Using cached requests-2.32.3-py3-none-any.whl (64 kB)\n",
      "Installing collected packages: requests\n",
      "Successfully installed requests-2.32.3\n"
     ]
    },
    {
     "name": "stderr",
     "output_type": "stream",
     "text": [
      "ERROR: pip's dependency resolver does not currently take into account all the packages that are installed. This behaviour is the source of the following dependency conflicts.\n",
      "pycaret 3.2.0 requires matplotlib<=3.6,>=3.3.0, but you have matplotlib 3.9.0 which is incompatible.\n",
      "spacy 3.7.4 requires smart-open<7.0.0,>=5.2.1, but you have smart-open 7.0.4 which is incompatible.\n",
      "weasel 0.3.4 requires smart-open<7.0.0,>=5.2.1, but you have smart-open 7.0.4 which is incompatible.\n"
     ]
    }
   ],
   "source": [
    "!pip uninstall requests charset_normalizer -y\n",
    "!pip install requests charset_normalizer\n"
   ]
  },
  {
   "cell_type": "code",
   "execution_count": 5,
   "metadata": {},
   "outputs": [
    {
     "name": "stdout",
     "output_type": "stream",
     "text": [
      "Requirement already satisfied: requests in c:\\users\\gurpreet singh\\anaconda3\\envs\\azackme\\lib\\site-packages (2.32.3)\n",
      "Requirement already satisfied: charset_normalizer in c:\\users\\gurpreet singh\\anaconda3\\envs\\azackme\\lib\\site-packages (3.3.2)\n",
      "Collecting charset_normalizer\n",
      "  Downloading charset_normalizer-3.4.1-cp311-cp311-win_amd64.whl.metadata (36 kB)\n",
      "Requirement already satisfied: idna<4,>=2.5 in c:\\users\\gurpreet singh\\anaconda3\\envs\\azackme\\lib\\site-packages (from requests) (3.4)\n",
      "Requirement already satisfied: urllib3<3,>=1.21.1 in c:\\users\\gurpreet singh\\anaconda3\\envs\\azackme\\lib\\site-packages (from requests) (2.1.0)\n",
      "Requirement already satisfied: certifi>=2017.4.17 in c:\\users\\gurpreet singh\\anaconda3\\envs\\azackme\\lib\\site-packages (from requests) (2023.11.17)\n",
      "Downloading charset_normalizer-3.4.1-cp311-cp311-win_amd64.whl (102 kB)\n",
      "   ---------------------------------------- 0.0/102.4 kB ? eta -:--:--\n",
      "   --------------- ----------------------- 41.0/102.4 kB 991.0 kB/s eta 0:00:01\n",
      "   ---------------------------------------- 102.4/102.4 kB 1.2 MB/s eta 0:00:00\n",
      "Installing collected packages: charset_normalizer\n",
      "  Attempting uninstall: charset_normalizer\n",
      "    Found existing installation: charset-normalizer 3.3.2\n",
      "    Uninstalling charset-normalizer-3.3.2:\n",
      "      Successfully uninstalled charset-normalizer-3.3.2\n",
      "Successfully installed charset_normalizer-3.4.1\n"
     ]
    },
    {
     "name": "stderr",
     "output_type": "stream",
     "text": [
      "  WARNING: Failed to remove contents in a temporary directory 'C:\\Users\\GURPREET SINGH\\anaconda3\\envs\\azackme\\Lib\\site-packages\\~harset_normalizer'.\n",
      "  You can safely remove it manually.\n",
      "ERROR: pip's dependency resolver does not currently take into account all the packages that are installed. This behaviour is the source of the following dependency conflicts.\n",
      "spacy 3.7.4 requires smart-open<7.0.0,>=5.2.1, but you have smart-open 7.0.4 which is incompatible.\n",
      "weasel 0.3.4 requires smart-open<7.0.0,>=5.2.1, but you have smart-open 7.0.4 which is incompatible.\n"
     ]
    }
   ],
   "source": [
    "!pip install --upgrade requests charset_normalizer\n"
   ]
  },
  {
   "cell_type": "markdown",
   "metadata": {},
   "source": [
    "Fetching real time data from OpenSky API"
   ]
  },
  {
   "cell_type": "code",
   "execution_count": 6,
   "metadata": {},
   "outputs": [
    {
     "name": "stderr",
     "output_type": "stream",
     "text": [
      "c:\\Users\\GURPREET SINGH\\anaconda3\\envs\\azackme\\Lib\\site-packages\\requests\\__init__.py:86: RequestsDependencyWarning: Unable to find acceptable character detection dependency (chardet or charset_normalizer).\n",
      "  raise Exception(\"You need either charset_normalizer or chardet installed\")\n"
     ]
    },
    {
     "name": "stdout",
     "output_type": "stream",
     "text": [
      "[\n",
      "  [\n",
      "    \"a665ae\",\n",
      "    \"IFL511  \",\n",
      "    \"United States\",\n",
      "    1738806303,\n",
      "    1738806304,\n",
      "    -88.7089,\n",
      "    41.5809,\n",
      "    9944.1,\n",
      "    false,\n",
      "    191.01,\n",
      "    215.57,\n",
      "    2.6,\n",
      "    null,\n",
      "    9928.86,\n",
      "    \"7502\",\n",
      "    false,\n",
      "    0\n",
      "  ],\n",
      "  [\n",
      "    \"ab1644\",\n",
      "    \"UAL2634 \",\n",
      "    \"United States\",\n",
      "    1738806304,\n",
      "    1738806304,\n",
      "    -78.3939,\n",
      "    37.0767,\n",
      "    8221.98,\n",
      "    false,\n",
      "    232.25,\n",
      "    41.14,\n",
      "    0,\n",
      "    null,\n",
      "    8427.72,\n",
      "    \"2071\",\n",
      "    false,\n",
      "    0\n",
      "  ],\n",
      "  [\n",
      "    \"c822af\",\n",
      "    \"GBA754  \",\n",
      "    \"New Zealand\",\n",
      "    1738806303,\n",
      "    1738806303,\n",
      "    174.9883,\n",
      "    -36.9561,\n",
      "    906.78,\n",
      "    false,\n",
      "    86.59,\n",
      "    255.55,\n",
      "    -6.18,\n",
      "    null,\n",
      "    975.36,\n",
      "    null,\n",
      "    false,\n",
      "    0\n",
      "  ],\n",
      "  [\n",
      "    \"a46e70\",\n",
      "    \"LXJ385  \",\n",
      "    \"United States\",\n",
      "    1738806302,\n",
      "    1738806302,\n",
      "    -118.4875,\n",
      "    34.2046,\n",
      "    null,\n",
      "    true,\n",
      "    0,\n",
      "    165.94,\n",
      "    null,\n",
      "    null,\n",
      "    null,\n",
      "    null,\n",
      "    false,\n",
      "    0\n",
      "  ],\n",
      "  [\n",
      "    \"a3a555\",\n",
      "    \"N334GV  \",\n",
      "    \"United States\",\n",
      "    1738806303,\n",
      "    1738806304,\n",
      "    -116.5315,\n",
      "    34.1303,\n",
      "    4777.74,\n",
      "    false,\n",
      "    149.75,\n",
      "    339.7,\n",
      "    15.61,\n",
      "    null,\n",
      "    4907.28,\n",
      "    \"3112\",\n",
      "    false,\n",
      "    0\n",
      "  ]\n",
      "]\n"
     ]
    }
   ],
   "source": [
    "import requests\n",
    "import json\n",
    "\n",
    "# OpenSky API Endpoint for live flight data\n",
    "url = \"https://opensky-network.org/api/states/all\"\n",
    "\n",
    "# Fetch data from API\n",
    "response = requests.get(url)\n",
    "\n",
    "# Convert to JSON format\n",
    "data = response.json()\n",
    "\n",
    "# Display first 5 flight records in a readable format\n",
    "print(json.dumps(data[\"states\"][:5], indent=2))"
   ]
  },
  {
   "cell_type": "markdown",
   "metadata": {},
   "source": [
    "Connect Snowflake to python"
   ]
  },
  {
   "cell_type": "code",
   "execution_count": 1,
   "metadata": {},
   "outputs": [
    {
     "name": "stdout",
     "output_type": "stream",
     "text": [
      "Found existing installation: charset-normalizer 3.3.2\n",
      "Uninstalling charset-normalizer-3.3.2:\n",
      "  Successfully uninstalled charset-normalizer-3.3.2\n",
      "Found existing installation: requests 2.32.3\n",
      "Uninstalling requests-2.32.3:\n",
      "  Successfully uninstalled requests-2.32.3\n"
     ]
    },
    {
     "name": "stderr",
     "output_type": "stream",
     "text": [
      "WARNING: Skipping snowflake-connector-python as it is not installed.\n"
     ]
    }
   ],
   "source": [
    "!pip uninstall charset_normalizer requests snowflake-connector-python -y\n"
   ]
  },
  {
   "cell_type": "code",
   "execution_count": 2,
   "metadata": {},
   "outputs": [
    {
     "name": "stdout",
     "output_type": "stream",
     "text": [
      "Files removed: 0\n",
      "Note: you may need to restart the kernel to use updated packages.\n"
     ]
    },
    {
     "name": "stderr",
     "output_type": "stream",
     "text": [
      "WARNING: No matching packages\n"
     ]
    }
   ],
   "source": [
    "pip cache purge\n"
   ]
  },
  {
   "cell_type": "code",
   "execution_count": 3,
   "metadata": {},
   "outputs": [
    {
     "name": "stdout",
     "output_type": "stream",
     "text": [
      "Collecting requests\n",
      "  Downloading requests-2.32.3-py3-none-any.whl.metadata (4.6 kB)\n",
      "Collecting snowflake-connector-python\n",
      "  Downloading snowflake_connector_python-3.13.2-cp312-cp312-win_amd64.whl.metadata (68 kB)\n",
      "     ---------------------------------------- 0.0/68.5 kB ? eta -:--:--\n",
      "     ---------------------------------------- 68.5/68.5 kB 3.6 MB/s eta 0:00:00\n",
      "Collecting charset-normalizer<4,>=2 (from requests)\n",
      "  Downloading charset_normalizer-3.4.1-cp312-cp312-win_amd64.whl.metadata (36 kB)\n",
      "Requirement already satisfied: idna<4,>=2.5 in c:\\python312\\lib\\site-packages (from requests) (3.7)\n",
      "Requirement already satisfied: urllib3<3,>=1.21.1 in c:\\python312\\lib\\site-packages (from requests) (2.2.2)\n",
      "Requirement already satisfied: certifi>=2017.4.17 in c:\\python312\\lib\\site-packages (from requests) (2024.7.4)\n",
      "Collecting asn1crypto<2.0.0,>0.24.0 (from snowflake-connector-python)\n",
      "  Downloading asn1crypto-1.5.1-py2.py3-none-any.whl.metadata (13 kB)\n",
      "Collecting cffi<2.0.0,>=1.9 (from snowflake-connector-python)\n",
      "  Downloading cffi-1.17.1-cp312-cp312-win_amd64.whl.metadata (1.6 kB)\n",
      "Collecting cryptography>=3.1.0 (from snowflake-connector-python)\n",
      "  Downloading cryptography-44.0.0-cp39-abi3-win_amd64.whl.metadata (5.7 kB)\n",
      "Collecting pyOpenSSL<25.0.0,>=22.0.0 (from snowflake-connector-python)\n",
      "  Downloading pyOpenSSL-24.3.0-py3-none-any.whl.metadata (15 kB)\n",
      "Collecting pyjwt<3.0.0 (from snowflake-connector-python)\n",
      "  Downloading PyJWT-2.10.1-py3-none-any.whl.metadata (4.0 kB)\n",
      "Requirement already satisfied: pytz in c:\\python312\\lib\\site-packages (from snowflake-connector-python) (2024.2)\n",
      "Requirement already satisfied: packaging in c:\\users\\gurpreet singh\\appdata\\roaming\\python\\python312\\site-packages (from snowflake-connector-python) (24.2)\n",
      "Collecting typing_extensions<5,>=4.3 (from snowflake-connector-python)\n",
      "  Downloading typing_extensions-4.12.2-py3-none-any.whl.metadata (3.0 kB)\n",
      "Collecting filelock<4,>=3.5 (from snowflake-connector-python)\n",
      "  Downloading filelock-3.17.0-py3-none-any.whl.metadata (2.9 kB)\n",
      "Collecting sortedcontainers>=2.4.0 (from snowflake-connector-python)\n",
      "  Downloading sortedcontainers-2.4.0-py2.py3-none-any.whl.metadata (10 kB)\n",
      "Requirement already satisfied: platformdirs<5.0.0,>=2.6.0 in c:\\users\\gurpreet singh\\appdata\\roaming\\python\\python312\\site-packages (from snowflake-connector-python) (4.3.6)\n",
      "Collecting tomlkit (from snowflake-connector-python)\n",
      "  Downloading tomlkit-0.13.2-py3-none-any.whl.metadata (2.7 kB)\n",
      "Collecting pycparser (from cffi<2.0.0,>=1.9->snowflake-connector-python)\n",
      "  Downloading pycparser-2.22-py3-none-any.whl.metadata (943 bytes)\n",
      "Downloading requests-2.32.3-py3-none-any.whl (64 kB)\n",
      "   ---------------------------------------- 0.0/64.9 kB ? eta -:--:--\n",
      "   ---------------------------------------- 64.9/64.9 kB 3.6 MB/s eta 0:00:00\n",
      "Downloading snowflake_connector_python-3.13.2-cp312-cp312-win_amd64.whl (920 kB)\n",
      "   ---------------------------------------- 0.0/920.4 kB ? eta -:--:--\n",
      "   ----------------- --------------------- 419.8/920.4 kB 13.2 MB/s eta 0:00:01\n",
      "   --------------------------------------- 920.4/920.4 kB 14.7 MB/s eta 0:00:00\n",
      "Downloading asn1crypto-1.5.1-py2.py3-none-any.whl (105 kB)\n",
      "   ---------------------------------------- 0.0/105.0 kB ? eta -:--:--\n",
      "   ---------------------------------------- 105.0/105.0 kB ? eta 0:00:00\n",
      "Downloading cffi-1.17.1-cp312-cp312-win_amd64.whl (181 kB)\n",
      "   ---------------------------------------- 0.0/182.0 kB ? eta -:--:--\n",
      "   ---------------------------------------- 182.0/182.0 kB ? eta 0:00:00\n",
      "Downloading charset_normalizer-3.4.1-cp312-cp312-win_amd64.whl (102 kB)\n",
      "   ---------------------------------------- 0.0/102.8 kB ? eta -:--:--\n",
      "   ---------------------------------------- 102.8/102.8 kB ? eta 0:00:00\n",
      "Downloading cryptography-44.0.0-cp39-abi3-win_amd64.whl (3.2 MB)\n",
      "   ---------------------------------------- 0.0/3.2 MB ? eta -:--:--\n",
      "   ---------------- ----------------------- 1.3/3.2 MB 27.2 MB/s eta 0:00:01\n",
      "   ----------------------------------- ---- 2.9/3.2 MB 30.4 MB/s eta 0:00:01\n",
      "   ---------------------------------------- 3.2/3.2 MB 34.0 MB/s eta 0:00:00\n",
      "Downloading filelock-3.17.0-py3-none-any.whl (16 kB)\n",
      "Downloading PyJWT-2.10.1-py3-none-any.whl (22 kB)\n",
      "Downloading pyOpenSSL-24.3.0-py3-none-any.whl (56 kB)\n",
      "   ---------------------------------------- 0.0/56.1 kB ? eta -:--:--\n",
      "   ---------------------------------------- 56.1/56.1 kB ? eta 0:00:00\n",
      "Downloading sortedcontainers-2.4.0-py2.py3-none-any.whl (29 kB)\n",
      "Downloading typing_extensions-4.12.2-py3-none-any.whl (37 kB)\n",
      "Downloading tomlkit-0.13.2-py3-none-any.whl (37 kB)\n",
      "Downloading pycparser-2.22-py3-none-any.whl (117 kB)\n",
      "   ---------------------------------------- 0.0/117.6 kB ? eta -:--:--\n",
      "   ---------------------------------------- 117.6/117.6 kB ? eta 0:00:00\n",
      "Installing collected packages: sortedcontainers, asn1crypto, typing_extensions, tomlkit, pyjwt, pycparser, filelock, charset-normalizer, requests, cffi, cryptography, pyOpenSSL, snowflake-connector-python\n",
      "Successfully installed asn1crypto-1.5.1 cffi-1.17.1 charset-normalizer-3.4.1 cryptography-44.0.0 filelock-3.17.0 pyOpenSSL-24.3.0 pycparser-2.22 pyjwt-2.10.1 requests-2.32.3 snowflake-connector-python-3.13.2 sortedcontainers-2.4.0 tomlkit-0.13.2 typing_extensions-4.12.2\n"
     ]
    },
    {
     "name": "stderr",
     "output_type": "stream",
     "text": [
      "\n",
      "[notice] A new release of pip is available: 24.1.2 -> 25.0\n",
      "[notice] To update, run: python.exe -m pip install --upgrade pip\n"
     ]
    }
   ],
   "source": [
    "!pip install --no-cache-dir requests snowflake-connector-python\n"
   ]
  },
  {
   "cell_type": "code",
   "execution_count": 4,
   "metadata": {},
   "outputs": [
    {
     "name": "stdout",
     "output_type": "stream",
     "text": [
      "requests                   2.32.3\n",
      "snowflake-connector-python 3.13.2\n"
     ]
    }
   ],
   "source": [
    "!pip list | findstr requests\n",
    "!pip list | findstr snowflake\n"
   ]
  },
  {
   "cell_type": "code",
   "execution_count": 5,
   "metadata": {},
   "outputs": [
    {
     "name": "stdout",
     "output_type": "stream",
     "text": [
      "✅ All dependencies are working correctly!\n"
     ]
    }
   ],
   "source": [
    "import requests\n",
    "import snowflake.connector\n",
    "\n",
    "print(\"✅ All dependencies are working correctly!\")\n"
   ]
  },
  {
   "cell_type": "markdown",
   "metadata": {},
   "source": [
    "Creating a connection"
   ]
  },
  {
   "cell_type": "code",
   "execution_count": 35,
   "metadata": {},
   "outputs": [
    {
     "name": "stderr",
     "output_type": "stream",
     "text": [
      "C:\\Users\\GURPREET SINGH\\AppData\\Local\\Temp\\ipykernel_23016\\3636768956.py:51: DeprecationWarning: datetime.datetime.utcfromtimestamp() is deprecated and scheduled for removal in a future version. Use timezone-aware objects to represent datetimes in UTC: datetime.datetime.fromtimestamp(timestamp, datetime.UTC).\n",
      "  datetime.utcfromtimestamp(flight[3]).strftime('%Y-%m-%d %H:%M:%S'),\n",
      "C:\\Users\\GURPREET SINGH\\AppData\\Local\\Temp\\ipykernel_23016\\3636768956.py:52: DeprecationWarning: datetime.datetime.utcfromtimestamp() is deprecated and scheduled for removal in a future version. Use timezone-aware objects to represent datetimes in UTC: datetime.datetime.fromtimestamp(timestamp, datetime.UTC).\n",
      "  datetime.utcfromtimestamp(flight[4]).strftime('%Y-%m-%d %H:%M:%S'),\n"
     ]
    },
    {
     "name": "stdout",
     "output_type": "stream",
     "text": [
      "🚨 Unexpected Error: 'NoneType' object cannot be interpreted as an integer\n"
     ]
    }
   ],
   "source": [
    "import snowflake.connector\n",
    "import requests\n",
    "import json\n",
    "import time\n",
    "from datetime import datetime\n",
    "\n",
    "SNOWFLAKE_ACCOUNT = \"af03863.ca-central-1.aws\"  \n",
    "SNOWFLAKE_USER = \"ISHAN1212\"\n",
    "SNOWFLAKE_PASSWORD = \"Shivkripa7001$\"\n",
    "SNOWFLAKE_DATABASE = \"FLIGHT_DB\"\n",
    "SNOWFLAKE_SCHEMA = \"PUBLIC\"\n",
    "SNOWFLAKE_WAREHOUSE = \"COMPUTE_WH\"\n",
    "SNOWFLAKE_TABLE = \"Flights\"\n",
    "\n",
    "url = \"https://opensky-network.org/api/states/all\"\n",
    "\n",
    "try:\n",
    "    response = requests.get(url)\n",
    "    response.raise_for_status()  \n",
    "    data = response.json()\n",
    "\n",
    "    \n",
    "    flights = data.get(\"states\", [])  # Get list of flights\n",
    "\n",
    "    \n",
    "    conn = snowflake.connector.connect(\n",
    "        user=SNOWFLAKE_USER,\n",
    "        password=SNOWFLAKE_PASSWORD,\n",
    "        account=SNOWFLAKE_ACCOUNT,\n",
    "        database=SNOWFLAKE_DATABASE,\n",
    "        schema=SNOWFLAKE_SCHEMA,\n",
    "        warehouse=SNOWFLAKE_WAREHOUSE,\n",
    "        protocol=\"https\",  \n",
    "    )\n",
    "\n",
    "    cursor = conn.cursor()\n",
    "\n",
    "    \n",
    "    sql = f\"\"\"\n",
    "        INSERT INTO {SNOWFLAKE_TABLE} (\n",
    "            FlightID, Callsign, OriginCountry, LastContactTime, LastPositionUpdate,\n",
    "            Longitude, Latitude, BarometricAltitude, OnGround, Velocity, Heading\n",
    "        ) VALUES (%s, %s, %s, %s, %s, %s, %s, %s, %s, %s, %s)\n",
    "    \"\"\"\n",
    "\n",
    "    for flight in flights[:1000]: \n",
    "        values = (\n",
    "            flight[0],  # ICAO24 Aircraft ID\n",
    "            flight[1] if flight[1] else \"UNKNOWN\",\n",
    "            flight[2] if flight[2] else \"UNKNOWN\",\n",
    "            datetime.utcfromtimestamp(flight[3]).strftime('%Y-%m-%d %H:%M:%S'),\n",
    "            datetime.utcfromtimestamp(flight[4]).strftime('%Y-%m-%d %H:%M:%S'),\n",
    "            flight[5] if flight[5] else None,\n",
    "            flight[6] if flight[6] else None,\n",
    "            flight[7] if flight[7] else None,\n",
    "            flight[8],\n",
    "            flight[9] if flight[9] else None,\n",
    "            flight[10] if flight[10] else None\n",
    "        )\n",
    "\n",
    "        cursor.execute(sql, values)\n",
    "        time.sleep(1) \n",
    "\n",
    "    \n",
    "    conn.commit()\n",
    "    cursor.close()\n",
    "    conn.close()\n",
    "\n",
    "    print(\"Flight data inserted into Snowflake successfully!\")\n",
    "\n",
    "except requests.exceptions.RequestException as e:\n",
    "    print(f\"🚨 API Request Error: {e}\")\n",
    "\n",
    "except snowflake.connector.errors.OperationalError as e:\n",
    "    print(f\"🚨 Snowflake Connection Error: {e}\")\n",
    "\n",
    "except Exception as e:\n",
    "    print(f\"🚨 Unexpected Error: {e}\")\n"
   ]
  },
  {
   "cell_type": "markdown",
   "metadata": {},
   "source": [
    "Fetch Data in Python"
   ]
  },
  {
   "cell_type": "code",
   "execution_count": 32,
   "metadata": {},
   "outputs": [
    {
     "name": "stdout",
     "output_type": "stream",
     "text": [
      "('3c4048', 'UNKNOWN', 'Germany', datetime.datetime(2025, 2, 6, 4, 46, 13), datetime.datetime(2025, 2, 6, 4, 46, 13), 13.5338, 52.3805, None, True, 12.86, 112.5)\n",
      "('a46e70', 'LXJ385  ', 'United States', datetime.datetime(2025, 2, 6, 4, 47, 17), datetime.datetime(2025, 2, 6, 4, 47, 18), -103.6439, 34.4761, 13716.0, False, 251.11, 93.88)\n",
      "('ad4f1c', 'ERU957  ', 'United States', datetime.datetime(2025, 2, 6, 4, 47, 17), datetime.datetime(2025, 2, 6, 4, 47, 17), -81.6146, 28.681, 998.22, False, 61.77, 12.99)\n",
      "('801638', 'AXB2971 ', 'India', datetime.datetime(2025, 2, 6, 4, 47, 18), datetime.datetime(2025, 2, 6, 4, 47, 18), 85.5083, 21.0435, 11277.6, False, 271.25, 39.3)\n",
      "('7c6b2d', 'JST516  ', 'Australia', datetime.datetime(2025, 2, 6, 4, 46, 57), datetime.datetime(2025, 2, 6, 4, 46, 57), 151.1768, -33.9415, None, True, 11.83, 345.94)\n",
      "('ade18c', 'AAL1104 ', 'United States', datetime.datetime(2025, 2, 6, 4, 47, 13), datetime.datetime(2025, 2, 6, 4, 47, 13), -115.6301, 43.2416, 5273.04, False, 131.43, 312.62)\n",
      "('abd9d9', 'SWA3873 ', 'United States', datetime.datetime(2025, 2, 6, 4, 47, 17), datetime.datetime(2025, 2, 6, 4, 47, 18), -122.3698, 39.9887, 11902.44, False, 249.02, 356.21)\n",
      "('801645', 'AIC430  ', 'India', datetime.datetime(2025, 2, 6, 4, 47, 18), datetime.datetime(2025, 2, 6, 4, 47, 18), 79.4728, 14.8463, 9761.22, False, 232.81, 338.48)\n",
      "('800313', 'TRDNT27 ', 'India', datetime.datetime(2025, 2, 6, 4, 47, 16), datetime.datetime(2025, 2, 6, 4, 47, 16), 81.9118, 14.4529, 8229.6, False, 200.53, 35.08)\n",
      "('8a02ff', 'CTV487  ', 'Indonesia', datetime.datetime(2025, 2, 6, 4, 46, 40), datetime.datetime(2025, 2, 6, 4, 46, 40), 113.6627, -6.648, 6400.8, False, 225.36, 218.88)\n"
     ]
    }
   ],
   "source": [
    "# Connect to Snowflake and fetch data\n",
    "conn = snowflake.connector.connect(\n",
    "    user=SNOWFLAKE_USER,\n",
    "    password=SNOWFLAKE_PASSWORD,\n",
    "    account=SNOWFLAKE_ACCOUNT,\n",
    "    database=SNOWFLAKE_DATABASE,\n",
    "    schema=SNOWFLAKE_SCHEMA,\n",
    "    warehouse=SNOWFLAKE_WAREHOUSE\n",
    ")\n",
    "\n",
    "cursor = conn.cursor()\n",
    "cursor.execute(\"SELECT * FROM FLIGHT_DB.PUBLIC.Flights LIMIT 10;\")\n",
    "\n",
    "rows = cursor.fetchall()\n",
    "\n",
    "# Display fetched data\n",
    "for row in rows:\n",
    "    print(row)\n",
    "\n",
    "cursor.close()\n",
    "conn.close()\n"
   ]
  }
 ],
 "metadata": {
  "kernelspec": {
   "display_name": "azackme",
   "language": "python",
   "name": "python3"
  },
  "language_info": {
   "codemirror_mode": {
    "name": "ipython",
    "version": 3
   },
   "file_extension": ".py",
   "mimetype": "text/x-python",
   "name": "python",
   "nbconvert_exporter": "python",
   "pygments_lexer": "ipython3",
   "version": "3.12.3"
  }
 },
 "nbformat": 4,
 "nbformat_minor": 2
}
